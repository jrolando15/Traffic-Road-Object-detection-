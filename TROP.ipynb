{
 "cells": [
  {
   "cell_type": "code",
   "execution_count": 3,
   "metadata": {},
   "outputs": [
    {
     "ename": "ModuleNotFoundError",
     "evalue": "No module named 'cv2'",
     "output_type": "error",
     "traceback": [
      "\u001b[1;31m---------------------------------------------------------------------------\u001b[0m",
      "\u001b[1;31mModuleNotFoundError\u001b[0m                       Traceback (most recent call last)",
      "Cell \u001b[1;32mIn[3], line 1\u001b[0m\n\u001b[1;32m----> 1\u001b[0m \u001b[38;5;28;01mimport\u001b[39;00m \u001b[38;5;21;01mcv2\u001b[39;00m\n\u001b[0;32m      2\u001b[0m \u001b[38;5;28;01mimport\u001b[39;00m \u001b[38;5;21;01mtorch\u001b[39;00m\n\u001b[0;32m      3\u001b[0m \u001b[38;5;28;01mimport\u001b[39;00m \u001b[38;5;21;01mnumpy\u001b[39;00m \u001b[38;5;28;01mas\u001b[39;00m \u001b[38;5;21;01mnp\u001b[39;00m\n",
      "\u001b[1;31mModuleNotFoundError\u001b[0m: No module named 'cv2'"
     ]
    }
   ],
   "source": [
    "\n",
    "import cv2\n",
    "import torch\n",
    "import numpy as np\n",
    "import matplotlib.pyplot as plt\n",
    "import pandas as pd\n",
    "from pathlib import Path\n",
    "import os"
   ]
  },
  {
   "cell_type": "code",
   "execution_count": 4,
   "metadata": {},
   "outputs": [
    {
     "name": "stdout",
     "output_type": "stream",
     "text": [
      "train images exists: True\n",
      "Train labels exist: True\n",
      "Validation images exist: True\n",
      "Validation labels exist: True\n"
     ]
    }
   ],
   "source": [
    "#path \n",
    "train_images_dir = r'C:\\Users\\jrola\\Documents\\Traffic Road Object Detection project\\Data\\train\\images'\n",
    "train_labels_dir = r'C:\\Users\\jrola\\Documents\\Traffic Road Object Detection project\\Data\\train\\labels'\n",
    "val_images_dir = r'C:\\Users\\jrola\\Documents\\Traffic Road Object Detection project\\Data\\val\\images'\n",
    "val_labels_dir = r'C:\\Users\\jrola\\Documents\\Traffic Road Object Detection project\\Data\\val\\labels'\n",
    "\n",
    "train_images_exists = os.path.exists(train_images_dir)\n",
    "train_labels_exists = os.path.exists(train_labels_dir)\n",
    "val_images_exists = os.path.exists(val_images_dir)\n",
    "val_labels_exists = os.path.exists(val_labels_dir)\n",
    "\n",
    "print(f\"train images exists: {train_images_exists}\")\n",
    "print(f'Train labels exist: {train_labels_exists}')\n",
    "print(f'Validation images exist: {val_images_exists}')\n",
    "print(f'Validation labels exist: {val_labels_exists}')"
   ]
  },
  {
   "cell_type": "code",
   "execution_count": 5,
   "metadata": {},
   "outputs": [
    {
     "name": "stdout",
     "output_type": "stream",
     "text": [
      "Pre-trained weights downloaded successfully to: C:\\Users\\jrola\\Documents\\yolo 5\\yolov5\\yolov5s.pt\n"
     ]
    }
   ],
   "source": [
    "import requests\n",
    "\n",
    "url = 'https://github.com/ultralytics/yolov5/releases/download/v6.0/yolov5s.pt'\n",
    "\n",
    "response = requests.get(url)\n",
    "\n",
    "save_path = r'C:\\Users\\jrola\\Documents\\yolo 5\\yolov5\\yolov5s.pt'\n",
    "\n",
    "with open(save_path, 'wb') as f:\n",
    "    f.write(response.content)\n",
    "\n",
    "print(\"Pre-trained weights downloaded successfully to:\", save_path)"
   ]
  },
  {
   "cell_type": "code",
   "execution_count": null,
   "metadata": {},
   "outputs": [],
   "source": [
    "train_images_dir = r'C:\\Users\\jrola\\Documents\\Traffic Road Object Detection project\\Data\\train\\images'\n",
    "val_images_dir = r'C:\\Users\\jrola\\Documents\\Traffic Road Object Detection project\\Data\\val\\images'\n",
    "\n",
    "def resize_images(image_dir, size=(640,640)):\n",
    "    for filename in os.listdir(image_dir):\n",
    "        if filename.endswith('.jpg') or filename.endswith('.jpeg') or filename.endswith('.png'):\n",
    "            image_path = os.path.join(image_dir, filename)\n",
    "\n",
    "            img = cv2.imread(image_path)\n",
    "\n",
    "            resized_img = cv2.resize(img, size)\n",
    "            cv2.imwrite(image_path, resized_img)\n",
    "\n",
    "resize_images(train_images_dir)\n",
    "resize_images(val_images_dir)"
   ]
  }
 ],
 "metadata": {
  "kernelspec": {
   "display_name": "Python 3 (ipykernel)",
   "language": "python",
   "name": "python3"
  },
  "language_info": {
   "codemirror_mode": {
    "name": "ipython",
    "version": 3
   },
   "file_extension": ".py",
   "mimetype": "text/x-python",
   "name": "python",
   "nbconvert_exporter": "python",
   "pygments_lexer": "ipython3",
   "version": "3.12.4"
  }
 },
 "nbformat": 4,
 "nbformat_minor": 4
}
